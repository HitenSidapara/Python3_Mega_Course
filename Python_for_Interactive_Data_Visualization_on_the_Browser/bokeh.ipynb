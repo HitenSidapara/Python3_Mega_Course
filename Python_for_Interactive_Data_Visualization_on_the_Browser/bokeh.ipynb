{
 "cells": [
  {
   "cell_type": "markdown",
   "metadata": {},
   "source": [
    "# Scatter Ploat Using Plotting Interface"
   ]
  },
  {
   "cell_type": "code",
   "execution_count": 15,
   "metadata": {},
   "outputs": [],
   "source": [
    "from bokeh.plotting import figure, output_file, show\n",
    "import pandas as pd"
   ]
  },
  {
   "cell_type": "code",
   "execution_count": 33,
   "metadata": {},
   "outputs": [],
   "source": [
    "p = figure(title=\"Raining\", plot_width=500, plot_height=400)\n",
    "\n",
    "p.background_fill_color = \"beige\"\n",
    "p.background_fill_alpha = 0.5\n",
    "\n",
    "p.title.text_color = \"olive\"\n",
    "p.title.text_font = \"times\"\n",
    "p.title.text_font_style = \"italic\"\n",
    "\n",
    "p.xaxis.axis_label = \"Rain\"\n",
    "p.xaxis.axis_label_text_font_style = \"italic\"\n",
    "p.yaxis.axis_label = \"cm\"\n",
    "p.yaxis.axis_label_text_font_style = \"italic\"\n",
    "\n",
    "p.xaxis.minor_tick_line_color = \"orange\"\n",
    "\n",
    "p.yaxis.minor_tick_line_color = None\n",
    "\n",
    "p.circle([1,2,3,4,5],[6,7,9,8,10],size=12,color=\"green\",alpha=0.5)\n",
    "output_file(\"Scatter_ploat.html\")\n",
    "show(p)"
   ]
  },
  {
   "cell_type": "markdown",
   "metadata": {},
   "source": [
    "# Exercise"
   ]
  },
  {
   "cell_type": "code",
   "execution_count": 34,
   "metadata": {},
   "outputs": [],
   "source": [
    "import pandas as pd\n",
    "from bokeh.plotting import figure, output_file, show"
   ]
  },
  {
   "cell_type": "code",
   "execution_count": 36,
   "metadata": {},
   "outputs": [],
   "source": [
    "df = pd.read_excel(\"data.xlsx\",sheet_name=0)\n",
    "df[\"Temperature\"] = df[\"Temperature\"]/10\n",
    "df[\"Pressure\"] = df[\"Pressure\"]/10"
   ]
  },
  {
   "cell_type": "code",
   "execution_count": 58,
   "metadata": {},
   "outputs": [],
   "source": [
    "p = figure(title=\"Temparetuare in Air pressure\", plot_width=500, plot_height=400)\n",
    "\n",
    "# toolbar_location=\"above\"\n",
    "\n",
    "p.title.text_color=\"Gray\"\n",
    "p.title.text_font=\"arial\"\n",
    "p.title.text_font_style=\"bold\"\n",
    "p.xaxis.minor_tick_line_color=None\n",
    "p.yaxis.minor_tick_line_color=None\n",
    "p.xaxis.axis_label=\"Temperature (C)\"\n",
    "p.yaxis.axis_label=\"Pressure (hPa)\"\n",
    "\n",
    "p.circle(df[\"Temperature\"],df[\"Pressure\"],size=.5,color=\"blue\")\n",
    "\n",
    "output_file(\"weather.html\", mode=\"absolute\")\n",
    "\n",
    "show(p)"
   ]
  },
  {
   "cell_type": "code",
   "execution_count": null,
   "metadata": {},
   "outputs": [],
   "source": []
  }
 ],
 "metadata": {
  "kernelspec": {
   "display_name": "Python 3",
   "language": "python",
   "name": "python3"
  },
  "language_info": {
   "codemirror_mode": {
    "name": "ipython",
    "version": 3
   },
   "file_extension": ".py",
   "mimetype": "text/x-python",
   "name": "python",
   "nbconvert_exporter": "python",
   "pygments_lexer": "ipython3",
   "version": "3.7.3"
  },
  "pycharm": {
   "stem_cell": {
    "cell_type": "raw",
    "metadata": {
     "collapsed": false
    },
    "source": [
     "\n"
    ]
   }
  }
 },
 "nbformat": 4,
 "nbformat_minor": 1
}
